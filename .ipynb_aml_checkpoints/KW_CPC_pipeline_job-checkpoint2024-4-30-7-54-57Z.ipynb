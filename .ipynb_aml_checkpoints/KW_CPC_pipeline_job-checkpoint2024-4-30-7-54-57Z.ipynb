{
  "cells": [
    {
      "cell_type": "code",
      "source": [
        "from azure.ai.ml import MLClient\n",
        "from azure.identity import DefaultAzureCredential\n",
        "\n",
        "ml_client = MLClient(\n",
        "    DefaultAzureCredential(), \"e1f27d73-68d8-4f59-900b-77783d4c5b3b\", \"End2EndCPC\", \"End2End_CPC\"\n",
        ")\n"
      ],
      "outputs": [],
      "execution_count": 42,
      "metadata": {
        "gather": {
          "logged": 1717054252557
        }
      }
    },
    {
      "cell_type": "code",
      "source": [
        "import os\n",
        "\n",
        "# create a folder for the script files\n",
        "script_folder = 'src'\n",
        "os.makedirs(script_folder, exist_ok=True)\n",
        "print(script_folder, 'folder created')"
      ],
      "outputs": [
        {
          "output_type": "stream",
          "name": "stdout",
          "text": "src folder created\n"
        }
      ],
      "execution_count": 43,
      "metadata": {
        "jupyter": {
          "source_hidden": false,
          "outputs_hidden": false
        },
        "nteract": {
          "transient": {
            "deleting": false
          }
        },
        "gather": {
          "logged": 1717054252962
        }
      }
    },
    {
      "cell_type": "code",
      "source": [
        "%%writefile src/prepare-data.py\n",
        "# import libraries\n",
        "import argparse\n",
        "import pandas as pd\n",
        "import numpy as np\n",
        "from pathlib import Path\n",
        "from sklearn.preprocessing import RobustScaler\n",
        "\n",
        "def main(args):\n",
        "    df = get_data(args.input_data)\n",
        "\n",
        "    imputed_data = impute(df)\n",
        "\n",
        "    scaled_data = scale_data(imputed_data)\n",
        "\n",
        "    output_df = scaled_data.to_csv((Path(args.output_data)), index = False)\n",
        "\n",
        "def get_data(path):\n",
        "    df = pd.read_csv(path)\n",
        "\n",
        "    print(f'Preparing {df.shape[1]} columns and {df.shape[0]} rows of data')\n",
        "    print(df.dtypes)\n",
        "\n",
        "    df = df.drop(\"keyword\",axis=1)\n",
        "    \n",
        "    return df\n",
        "\n",
        "def clean_data(df):\n",
        "    zero_mask = (df['lower_bid']==df['upper_bid'])|(df['lower_bid']==0)\n",
        "    df_kw = df[~zero_mask]\n",
        "    lower_mask = (df['lower_bid']>df['upper_bid'])|(df['lower_bid']>df['CPC'])|(df['upper_bid']<df['CPC'])\n",
        "    df_kw = df[~lower_mask]\n",
        "\n",
        "def impute(df):\n",
        "    for column in df.columns:\n",
        "        if df[column].dtype in ['float64', 'int64']:\n",
        "            fill_value = df[column].median()\n",
        "        else:\n",
        "            fill_value = df[column].mode()[0]\n",
        "        \n",
        "        df[column].fillna(fill_value, inplace=True)\n",
        "    \n",
        "    return df\n",
        "\n",
        "def scale_data(df):\n",
        "    scaler = RobustScaler()\n",
        "    num_cols = df.select_dtypes(['float64', 'int64']).columns.to_list()\n",
        "    df[num_cols] = scaler.fit_transform(df[num_cols])\n",
        "\n",
        "    return df\n",
        "\n",
        "def parse_args():\n",
        "    # setup arg parser\n",
        "    parser = argparse.ArgumentParser()\n",
        "\n",
        "    # add arguments\n",
        "    parser.add_argument(\"--input_data\", dest='input_data',\n",
        "                        type=str)\n",
        "    parser.add_argument(\"--output_data\", dest='output_data',\n",
        "                        type=str)\n",
        "\n",
        "    # parse args\n",
        "    args = parser.parse_args()\n",
        "\n",
        "    # return args\n",
        "    return args\n",
        "\n",
        "\n",
        "if __name__ == \"__main__\":\n",
        "    print(\"\\n\\n\")\n",
        "    print(\"*\" * 60)\n",
        "\n",
        "    args = parse_args()\n",
        "\n",
        "    main(args)\n",
        "\n",
        "    print(\"*\" * 60)\n",
        "    print(\"\\n\\n\")"
      ],
      "outputs": [
        {
          "output_type": "stream",
          "name": "stdout",
          "text": "Overwriting src/prepare-data.py\n"
        }
      ],
      "execution_count": 48,
      "metadata": {
        "jupyter": {
          "source_hidden": false,
          "outputs_hidden": false
        },
        "nteract": {
          "transient": {
            "deleting": false
          }
        }
      }
    },
    {
      "cell_type": "code",
      "source": [
        "%%writefile src/train-model.py\n",
        "# import libraries\n",
        "import mlflow\n",
        "import glob\n",
        "import argparse\n",
        "import pandas as pd\n",
        "import numpy as np\n",
        "from sklearn.model_selection import train_test_split\n",
        "from sklearn.linear_model import LinearRegression\n",
        "from sklearn.ensemble import GradientBoostingRegressor, RandomForestRegressor\n",
        "from sklearn.metrics import mean_squared_error\n",
        "import matplotlib.pyplot as plt\n",
        "\n",
        "def main(args):\n",
        "    mlflow.autolog()\n",
        "\n",
        "    df = get_data(args.training_data)\n",
        "\n",
        "    X_train, X_test, y_train, y_test = split_data(df,args.target_feature)\n",
        "\n",
        "    model = train_model(args.algorithm, X_train, X_test, y_train, y_test)\n",
        "\n",
        "    eval_model(model, X_test, y_test)\n",
        "\n",
        "def get_data(path):\n",
        "    df = pd.read_csv(path)\n",
        "\n",
        "    print(f'Modeling with {df.shape[1]} columns and {df.shape[0]} rows of data')\n",
        "    \n",
        "    return df\n",
        "\n",
        "def split_data(df,target_feature):\n",
        "    print(\"Splitting data...\")\n",
        "    X, y = df.drop(target_feature,axis=1), np.ravel(df[target_feature])\n",
        "\n",
        "    X_train, X_test, y_train, y_test = train_test_split(X, y, test_size=0.20, shuffle=True, random_state=99)\n",
        "\n",
        "    return X_train, X_test, y_train, y_test\n",
        "\n",
        "def train_model(algorithm,X_train, X_test, y_train, y_test):\n",
        "    print(\"Training model...\")\n",
        "    if algorithm == \"gradient-boosting\":\n",
        "        model = GradientBoostingRegressor()\n",
        "    if algorithm == \"random-forest\":\n",
        "        model = RandomForestRegressor()\n",
        "    else:\n",
        "        model = LinearRegression()\n",
        "    \n",
        "    model.fit(X_train, y_train)\n",
        "\n",
        "    mlflow.sklearn.save_model(model, args.model_output)\n",
        "\n",
        "    return model\n",
        "\n",
        "\n",
        "def eval_model(model, X_test, y_test):\n",
        "\n",
        "    y_pred = model.predict(X_test)\n",
        "    rmse = np.sqrt(mean_squared_error(y_pred, y_test))\n",
        "    print('RMSE:', rmse)\n",
        "\n",
        "\n",
        "def parse_args():\n",
        "    parser = argparse.ArgumentParser()\n",
        "\n",
        "    parser.add_argument(\"--training_data\", dest='training_data',\n",
        "                        type=str)\n",
        "    parser.add_argument(\"--algorithm\", dest='algorithm',\n",
        "                        type=str, default='linear-regression')\n",
        "    parser.add_argument(\"--target_feature\", dest='target_feature',\n",
        "                        type=str, default='CPC')\n",
        "    parser.add_argument(\"--model_output\", dest='model_output',\n",
        "                        type=str)\n",
        "\n",
        "    args = parser.parse_args()\n",
        "\n",
        "    return args\n",
        "\n",
        "if __name__ == \"__main__\":\n",
        "    print(\"\\n\\n\")\n",
        "    print(\"*\" * 60)\n",
        "\n",
        "    args = parse_args()\n",
        "\n",
        "    main(args)\n",
        "\n",
        "    print(\"*\" * 60)\n",
        "    print(\"\\n\\n\")\n"
      ],
      "outputs": [
        {
          "output_type": "stream",
          "name": "stdout",
          "text": "Overwriting src/train-model.py\n"
        }
      ],
      "execution_count": 49,
      "metadata": {
        "jupyter": {
          "source_hidden": false,
          "outputs_hidden": false
        },
        "nteract": {
          "transient": {
            "deleting": false
          }
        }
      }
    },
    {
      "cell_type": "code",
      "source": [
        "%%writefile prepare-data.yml\n",
        "$schema: https://azuremlschemas.azureedge.net/latest/commandComponent.schema.json\n",
        "name: prep_data\n",
        "display_name: Prepare training data\n",
        "version: 1\n",
        "type: command\n",
        "inputs:\n",
        "  input_data: \n",
        "    type: uri_file\n",
        "outputs:\n",
        "  output_data:\n",
        "    type: uri_file\n",
        "code: ./src\n",
        "environment: azureml:AzureML-sklearn-0.24-ubuntu18.04-py37-cpu@latest\n",
        "command: >-\n",
        "  python prepare-data.py \n",
        "  --input_data ${{inputs.input_data}}\n",
        "  --output_data ${{outputs.output_data}}"
      ],
      "outputs": [
        {
          "output_type": "stream",
          "name": "stdout",
          "text": "Overwriting prepare-data.yml\n"
        }
      ],
      "execution_count": 50,
      "metadata": {
        "jupyter": {
          "source_hidden": false,
          "outputs_hidden": false
        },
        "nteract": {
          "transient": {
            "deleting": false
          }
        }
      }
    },
    {
      "cell_type": "code",
      "source": [
        "%%writefile train-model.yml\n",
        "$schema: https://azuremlschemas.azureedge.net/latest/commandComponent.schema.json\n",
        "name: train_model\n",
        "display_name: Train a linear, gradient boosting or random forest regression model\n",
        "version: 1\n",
        "type: command\n",
        "inputs:\n",
        "  training_data: \n",
        "    type: uri_file\n",
        "  algorithm:\n",
        "    type: string\n",
        "    default: 'linear-regression'\n",
        "  target_feature:\n",
        "    type: string\n",
        "    default: 'CPC'\n",
        "outputs:\n",
        "  model_output:\n",
        "    type: mlflow_model\n",
        "code: ./src\n",
        "environment: azureml:AzureML-sklearn-0.24-ubuntu18.04-py37-cpu@latest\n",
        "command: >-\n",
        "  python train-model.py \n",
        "  --training_data ${{inputs.training_data}} \n",
        "  --algorithm ${{inputs.algorithm}} \n",
        "  --target_feature ${{inputs.target_feature}} \n",
        "  --model_output ${{outputs.model_output}} "
      ],
      "outputs": [
        {
          "output_type": "stream",
          "name": "stdout",
          "text": "Overwriting train-model.yml\n"
        }
      ],
      "execution_count": 51,
      "metadata": {
        "jupyter": {
          "source_hidden": false,
          "outputs_hidden": false
        },
        "nteract": {
          "transient": {
            "deleting": false
          }
        }
      }
    },
    {
      "cell_type": "code",
      "source": [
        "from azure.ai.ml import load_component\n",
        "parent_dir = \"\"\n",
        "\n",
        "prep_data = load_component(source=parent_dir + \"./prepare-data.yml\")\n",
        "train_regression = load_component(source=parent_dir + \"./train-model.yml\")"
      ],
      "outputs": [],
      "execution_count": 52,
      "metadata": {
        "jupyter": {
          "source_hidden": false,
          "outputs_hidden": false
        },
        "nteract": {
          "transient": {
            "deleting": false
          }
        },
        "gather": {
          "logged": 1717054288687
        }
      }
    },
    {
      "cell_type": "code",
      "source": [
        "from azure.ai.ml import Input\n",
        "from azure.ai.ml.constants import AssetTypes\n",
        "from azure.ai.ml.dsl import pipeline\n",
        "\n",
        "@pipeline()\n",
        "def kw_CPC_prediction(pipeline_job_input,algorithm='linear-regression',target_feature='CPC'):\n",
        "    clean_data = prep_data(input_data=pipeline_job_input)\n",
        "    train_model = train_regression(training_data=clean_data.outputs.output_data,algorithm=algorithm,target_feature=target_feature)\n",
        "\n",
        "    return {\n",
        "        \"pipeline_job_transformed_data\": clean_data.outputs.output_data,\n",
        "        \"pipeline_job_trained_model\": train_model.outputs.model_output,\n",
        "    }\n",
        "\n",
        "pipeline_job = kw_CPC_prediction(Input(type=AssetTypes.URI_FILE, path=\"azureml:kw-dataset:1\"),'linear-regression')"
      ],
      "outputs": [],
      "execution_count": 53,
      "metadata": {
        "jupyter": {
          "source_hidden": false,
          "outputs_hidden": false
        },
        "nteract": {
          "transient": {
            "deleting": false
          }
        },
        "gather": {
          "logged": 1717054289437
        }
      }
    },
    {
      "cell_type": "code",
      "source": [
        "print(pipeline_job)"
      ],
      "outputs": [
        {
          "output_type": "stream",
          "name": "stdout",
          "text": "display_name: kw_CPC_prediction\ntype: pipeline\ninputs:\n  pipeline_job_input:\n    type: uri_file\n    path: azureml:kw-dataset:1\n  algorithm: linear-regression\n  target_feature: CPC\noutputs:\n  pipeline_job_transformed_data:\n    type: uri_file\n  pipeline_job_trained_model:\n    type: mlflow_model\njobs:\n  clean_data:\n    type: command\n    inputs:\n      input_data:\n        path: ${{parent.inputs.pipeline_job_input}}\n    outputs:\n      output_data: ${{parent.outputs.pipeline_job_transformed_data}}\n    component:\n      $schema: https://azuremlschemas.azureedge.net/latest/commandComponent.schema.json\n      name: prep_data\n      version: '1'\n      display_name: Prepare training data\n      type: command\n      inputs:\n        input_data:\n          type: uri_file\n      outputs:\n        output_data:\n          type: uri_file\n      command: python prepare-data.py  --input_data ${{inputs.input_data}} --output_data\n        ${{outputs.output_data}}\n      environment: azureml:AzureML-sklearn-0.24-ubuntu18.04-py37-cpu@latest\n      code: /mnt/batch/tasks/shared/LS_root/mounts/clusters/notebook-compute-cpc/code/Users/miguel_lopez_virues/keyword_CPC/src\n      is_deterministic: true\n  train_model:\n    type: command\n    inputs:\n      training_data:\n        path: ${{parent.jobs.clean_data.outputs.output_data}}\n      algorithm:\n        path: ${{parent.inputs.algorithm}}\n      target_feature:\n        path: ${{parent.inputs.target_feature}}\n    outputs:\n      model_output: ${{parent.outputs.pipeline_job_trained_model}}\n    component:\n      $schema: https://azuremlschemas.azureedge.net/latest/commandComponent.schema.json\n      name: train_model\n      version: '1'\n      display_name: Train a linear, gradient boosting or random forest regression\n        model\n      type: command\n      inputs:\n        training_data:\n          type: uri_file\n        algorithm:\n          type: string\n          default: linear-regression\n        target_feature:\n          type: string\n          default: CPC\n      outputs:\n        model_output:\n          type: mlflow_model\n      command: 'python train-model.py  --training_data ${{inputs.training_data}}  --algorithm\n        ${{inputs.algorithm}}  --target_feature ${{inputs.target_feature}}  --model_output\n        ${{outputs.model_output}} '\n      environment: azureml:AzureML-sklearn-0.24-ubuntu18.04-py37-cpu@latest\n      code: /mnt/batch/tasks/shared/LS_root/mounts/clusters/notebook-compute-cpc/code/Users/miguel_lopez_virues/keyword_CPC/src\n      is_deterministic: true\n\n"
        }
      ],
      "execution_count": 54,
      "metadata": {
        "jupyter": {
          "source_hidden": false,
          "outputs_hidden": false
        },
        "nteract": {
          "transient": {
            "deleting": false
          }
        },
        "gather": {
          "logged": 1717054289862
        }
      }
    },
    {
      "cell_type": "code",
      "source": [
        "from azure.ai.ml.entities import AmlCompute\n",
        "\n",
        "cpu_compute_target = \"aml-cluster\"\n",
        "\n",
        "try:\n",
        "    cpu_cluster = ml_client.compute.get(cpu_compute_target)\n",
        "    print(\n",
        "        f\"There is already a cluster named {cpu_compute_target}. Reusing it.\"\n",
        "    )\n",
        "\n",
        "except Exception:\n",
        "    print(\"Creating a new cpu compute target...\")\n",
        "\n",
        "    cpu_cluster = AmlCompute(\n",
        "        name=cpu_compute_target,\n",
        "        type=\"amlcompute\",\n",
        "        size=\"STANDARD_DS11_V2\",\n",
        "        min_instances=0,\n",
        "        max_instances=2,\n",
        "        idle_time_before_scale_down=60,\n",
        "        tier=\"Dedicated\",\n",
        "    )\n",
        "\n",
        "    cpu_cluster = ml_client.compute.begin_create_or_update(cpu_cluster)\n"
      ],
      "outputs": [
        {
          "output_type": "stream",
          "name": "stdout",
          "text": "There is already a cluster named aml-cluster. Reusing it.\n"
        }
      ],
      "execution_count": 55,
      "metadata": {
        "jupyter": {
          "source_hidden": false,
          "outputs_hidden": false
        },
        "nteract": {
          "transient": {
            "deleting": false
          }
        },
        "gather": {
          "logged": 1717054290683
        }
      }
    },
    {
      "cell_type": "code",
      "source": [
        "from azure.ai.ml.entities import AmlCompute\n",
        "\n",
        "cluster_scale = AmlCompute(\n",
        "    name=\"aml-cluster\",\n",
        "    max_instances=2,\n",
        ")\n",
        "ml_client.begin_create_or_update(cluster_scale)"
      ],
      "outputs": [
        {
          "output_type": "execute_result",
          "execution_count": 56,
          "data": {
            "text/plain": "<azure.core.polling._poller.LROPoller at 0x7f92f3129ea0>"
          },
          "metadata": {}
        }
      ],
      "execution_count": 56,
      "metadata": {
        "jupyter": {
          "source_hidden": false,
          "outputs_hidden": false
        },
        "nteract": {
          "transient": {
            "deleting": false
          }
        },
        "gather": {
          "logged": 1717054291698
        }
      }
    },
    {
      "cell_type": "code",
      "source": [
        "\n",
        "pipeline_job.outputs.pipeline_job_transformed_data.mode = \"upload\"\n",
        "pipeline_job.outputs.pipeline_job_trained_model.mode = \"upload\"\n",
        "\n",
        "pipeline_job.settings.default_compute = \"aml-cluster\"\n",
        "\n",
        "pipeline_job.settings.default_datastore = \"workspaceblobstore\""
      ],
      "outputs": [],
      "execution_count": 57,
      "metadata": {
        "jupyter": {
          "source_hidden": false,
          "outputs_hidden": false
        },
        "nteract": {
          "transient": {
            "deleting": false
          }
        },
        "gather": {
          "logged": 1717054291889
        }
      }
    },
    {
      "cell_type": "code",
      "source": [
        "# submit job to workspace\n",
        "pipeline_job = ml_client.jobs.create_or_update(\n",
        "    pipeline_job, experiment_name=\"pipeline_kw_CPC\"\n",
        ")\n",
        "pipeline_job"
      ],
      "outputs": [
        {
          "output_type": "stream",
          "name": "stderr",
          "text": "Uploading src (0.0 MBs): 100%|██████████| 3873/3873 [00:00<00:00, 42609.86it/s]\n\n\n"
        },
        {
          "output_type": "execute_result",
          "execution_count": 58,
          "data": {
            "text/plain": "PipelineJob({'inputs': {'pipeline_job_input': <azure.ai.ml.entities._job.pipeline._io.base.PipelineInput object at 0x7f92f313a4d0>, 'algorithm': <azure.ai.ml.entities._job.pipeline._io.base.PipelineInput object at 0x7f92f313a320>, 'target_feature': <azure.ai.ml.entities._job.pipeline._io.base.PipelineInput object at 0x7f92f313b970>}, 'outputs': {'pipeline_job_transformed_data': <azure.ai.ml.entities._job.pipeline._io.base.PipelineOutput object at 0x7f92f3138be0>, 'pipeline_job_trained_model': <azure.ai.ml.entities._job.pipeline._io.base.PipelineOutput object at 0x7f92f3139a50>}, 'jobs': {}, 'component': PipelineComponent({'intellectual_property': None, 'auto_increment_version': False, 'source': 'REMOTE.WORKSPACE.JOB', 'is_anonymous': True, 'auto_delete_setting': None, 'name': 'azureml_anonymous', 'description': None, 'tags': {}, 'properties': {}, 'print_as_yaml': True, 'id': None, 'Resource__source_path': None, 'base_path': '/mnt/batch/tasks/shared/LS_root/mounts/clusters/notebook-compute-cpc/code/Users/miguel_lopez_virues/keyword_CPC', 'creation_context': None, 'serialize': <msrest.serialization.Serializer object at 0x7f92f3138d60>, 'version': '1', 'latest_version': None, 'schema': None, 'type': 'pipeline', 'display_name': 'kw_CPC_prediction', 'is_deterministic': None, 'inputs': {'pipeline_job_input': {}, 'algorithm': {}, 'target_feature': {}}, 'outputs': {'pipeline_job_transformed_data': {}, 'pipeline_job_trained_model': {}}, 'yaml_str': None, 'other_parameter': {}, 'jobs': {'clean_data': Command({'parameters': {}, 'init': False, 'name': 'clean_data', 'type': 'command', 'status': None, 'log_files': None, 'description': None, 'tags': {}, 'properties': {}, 'print_as_yaml': True, 'id': None, 'Resource__source_path': None, 'base_path': '/mnt/batch/tasks/shared/LS_root/mounts/clusters/notebook-compute-cpc/code/Users/miguel_lopez_virues/keyword_CPC', 'creation_context': None, 'serialize': <msrest.serialization.Serializer object at 0x7f92f31392d0>, 'allowed_keys': {}, 'key_restriction': False, 'logger': <Logger attr_dict (WARNING)>, 'display_name': None, 'experiment_name': None, 'compute': None, 'services': None, 'comment': None, 'job_inputs': {'input_data': '${{parent.inputs.pipeline_job_input}}'}, 'job_outputs': {'output_data': '${{parent.outputs.pipeline_job_transformed_data}}'}, 'inputs': {'input_data': <azure.ai.ml.entities._job.pipeline._io.base.NodeInput object at 0x7f92f313b0a0>}, 'outputs': {'output_data': <azure.ai.ml.entities._job.pipeline._io.base.NodeOutput object at 0x7f92f3138f10>}, 'component': 'azureml_anonymous:ca298500-1331-42d2-9fd0-5ab943a2e3f2', 'referenced_control_flow_node_instance_id': None, 'kwargs': {'services': None}, 'instance_id': '04047ebb-dc38-48f3-beef-bd290002cafd', 'source': 'REMOTE.WORKSPACE.COMPONENT', 'validate_required_input_not_provided': True, 'limits': None, 'identity': None, 'distribution': None, 'environment_variables': {}, 'environment': None, 'resources': None, 'queue_settings': None, 'swept': False}), 'train_model': Command({'parameters': {}, 'init': False, 'name': 'train_model', 'type': 'command', 'status': None, 'log_files': None, 'description': None, 'tags': {}, 'properties': {}, 'print_as_yaml': True, 'id': None, 'Resource__source_path': None, 'base_path': '/mnt/batch/tasks/shared/LS_root/mounts/clusters/notebook-compute-cpc/code/Users/miguel_lopez_virues/keyword_CPC', 'creation_context': None, 'serialize': <msrest.serialization.Serializer object at 0x7f92f313b130>, 'allowed_keys': {}, 'key_restriction': False, 'logger': <Logger attr_dict (WARNING)>, 'display_name': None, 'experiment_name': None, 'compute': None, 'services': None, 'comment': None, 'job_inputs': {'training_data': '${{parent.jobs.clean_data.outputs.output_data}}', 'algorithm': '${{parent.inputs.algorithm}}', 'target_feature': '${{parent.inputs.target_feature}}'}, 'job_outputs': {'model_output': '${{parent.outputs.pipeline_job_trained_model}}'}, 'inputs': {'training_data': <azure.ai.ml.entities._job.pipeline._io.base.NodeInput object at 0x7f92f31398d0>, 'algorithm': <azure.ai.ml.entities._job.pipeline._io.base.NodeInput object at 0x7f92f3139db0>, 'target_feature': <azure.ai.ml.entities._job.pipeline._io.base.NodeInput object at 0x7f92f3138970>}, 'outputs': {'model_output': <azure.ai.ml.entities._job.pipeline._io.base.NodeOutput object at 0x7f92f3139510>}, 'component': 'azureml_anonymous:42a5840f-a8ba-46a1-9c45-6290f01d64cc', 'referenced_control_flow_node_instance_id': None, 'kwargs': {'services': None}, 'instance_id': '1a17405c-dc3e-49eb-a32d-bda50be5fefb', 'source': 'REMOTE.WORKSPACE.COMPONENT', 'validate_required_input_not_provided': True, 'limits': None, 'identity': None, 'distribution': None, 'environment_variables': {}, 'environment': None, 'resources': None, 'queue_settings': None, 'swept': False})}, 'job_types': {'command': 2}, 'job_sources': {'REMOTE.WORKSPACE.COMPONENT': 2}, 'source_job_id': None}), 'type': 'pipeline', 'status': 'Preparing', 'log_files': None, 'name': 'dreamy_lamp_jh4j8379gf', 'description': None, 'tags': {}, 'properties': {'azureml.DevPlatv2': 'true', 'azureml.DatasetAccessMode': 'Asset', 'azureml.runsource': 'azureml.PipelineRun', 'runSource': 'MFE', 'runType': 'HTTP', 'azureml.parameters': '{\"algorithm\":\"linear-regression\",\"target_feature\":\"CPC\"}', 'azureml.continue_on_step_failure': 'True', 'azureml.continue_on_failed_optional_input': 'True', 'azureml.enforceRerun': 'False', 'azureml.defaultComputeName': 'aml-cluster', 'azureml.defaultDataStoreName': 'workspaceblobstore', 'azureml.pipelineComponent': 'pipelinerun'}, 'print_as_yaml': True, 'id': '/subscriptions/e1f27d73-68d8-4f59-900b-77783d4c5b3b/resourceGroups/End2EndCPC/providers/Microsoft.MachineLearningServices/workspaces/End2End_CPC/jobs/dreamy_lamp_jh4j8379gf', 'Resource__source_path': None, 'base_path': '/mnt/batch/tasks/shared/LS_root/mounts/clusters/notebook-compute-cpc/code/Users/miguel_lopez_virues/keyword_CPC', 'creation_context': <azure.ai.ml.entities._system_data.SystemData object at 0x7f92f313be20>, 'serialize': <msrest.serialization.Serializer object at 0x7f92f3139750>, 'display_name': 'kw_CPC_prediction', 'experiment_name': 'pipeline_kw_CPC', 'compute': None, 'services': {'Tracking': {'endpoint': 'azureml://francecentral.api.azureml.ms/mlflow/v1.0/subscriptions/e1f27d73-68d8-4f59-900b-77783d4c5b3b/resourceGroups/End2EndCPC/providers/Microsoft.MachineLearningServices/workspaces/End2End_CPC?', 'type': 'Tracking'}, 'Studio': {'endpoint': 'https://ml.azure.com/runs/dreamy_lamp_jh4j8379gf?wsid=/subscriptions/e1f27d73-68d8-4f59-900b-77783d4c5b3b/resourcegroups/End2EndCPC/workspaces/End2End_CPC&tid=0125b7aa-b6d6-4346-ad4d-12ed91eeca28', 'type': 'Studio'}}, 'settings': {}, 'identity': None, 'default_code': None, 'default_environment': None})",
            "text/html": "<table style=\"width:100%\"><tr><th>Experiment</th><th>Name</th><th>Type</th><th>Status</th><th>Details Page</th></tr><tr><td>pipeline_kw_CPC</td><td>dreamy_lamp_jh4j8379gf</td><td>pipeline</td><td>Preparing</td><td><a href=\"https://ml.azure.com/runs/dreamy_lamp_jh4j8379gf?wsid=/subscriptions/e1f27d73-68d8-4f59-900b-77783d4c5b3b/resourcegroups/End2EndCPC/workspaces/End2End_CPC&amp;tid=0125b7aa-b6d6-4346-ad4d-12ed91eeca28\" target=\"_blank\" rel=\"noopener\">Link to Azure Machine Learning studio</a></td></tr></table>"
          },
          "metadata": {}
        }
      ],
      "execution_count": 58,
      "metadata": {
        "jupyter": {
          "source_hidden": false,
          "outputs_hidden": false
        },
        "nteract": {
          "transient": {
            "deleting": false
          }
        },
        "gather": {
          "logged": 1717054307615
        }
      }
    },
    {
      "cell_type": "code",
      "source": [],
      "outputs": [],
      "execution_count": null,
      "metadata": {
        "jupyter": {
          "source_hidden": false,
          "outputs_hidden": false
        },
        "nteract": {
          "transient": {
            "deleting": false
          }
        }
      }
    },
    {
      "cell_type": "code",
      "source": [],
      "outputs": [],
      "execution_count": null,
      "metadata": {
        "jupyter": {
          "source_hidden": false,
          "outputs_hidden": false
        },
        "nteract": {
          "transient": {
            "deleting": false
          }
        }
      }
    }
  ],
  "metadata": {
    "kernelspec": {
      "name": "python310-sdkv2",
      "language": "python",
      "display_name": "Python 3.10 - SDK v2"
    },
    "language_info": {
      "name": "python",
      "version": "3.10.11",
      "mimetype": "text/x-python",
      "codemirror_mode": {
        "name": "ipython",
        "version": 3
      },
      "pygments_lexer": "ipython3",
      "nbconvert_exporter": "python",
      "file_extension": ".py"
    },
    "kernel_info": {
      "name": "python310-sdkv2"
    },
    "microsoft": {
      "ms_spell_check": {
        "ms_spell_check_language": "en"
      }
    },
    "nteract": {
      "version": "nteract-front-end@1.0.0"
    }
  },
  "nbformat": 4,
  "nbformat_minor": 2
}